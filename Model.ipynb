{
 "nbformat": 4,
 "nbformat_minor": 2,
 "metadata": {
  "language_info": {
   "name": "python",
   "codemirror_mode": {
    "name": "ipython",
    "version": 3
   }
  },
  "orig_nbformat": 2,
  "file_extension": ".py",
  "mimetype": "text/x-python",
  "name": "python",
  "npconvert_exporter": "python",
  "pygments_lexer": "ipython3",
  "version": 3
 },
 "cells": [
  {
   "cell_type": "code",
   "execution_count": null,
   "metadata": {},
   "outputs": [
    {
     "ename": "Error",
     "evalue": "Jupyter notebook failed to launch. \r\nError: The Jupyter notebook server failed to launch in time",
     "output_type": "error",
     "traceback": [
      "Error: Jupyter notebook failed to launch.",
      "Error: The Jupyter notebook server failed to launch in time",
      "at E.start (c:\\Users\\nitin\\.vscode\\extensions\\ms-python.python-2020.2.64397\\out\\client\\extension.js:1:825656)"
     ]
    }
   ],
   "source": [
    "print(\"Hello \")"
   ]
  },
  {
   "cell_type": "code",
   "execution_count": null,
   "metadata": {},
   "outputs": [],
   "source": []
  }
 ]
}